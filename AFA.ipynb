{
 "cells": [
  {
   "cell_type": "code",
   "execution_count": 207,
   "metadata": {},
   "outputs": [
    {
     "data": {
      "text/plain": [
       "array([ 0.,  0.,  0.,  0.,  1.,  0.,  0.,  0.,  0.,  0.,  0.,  0.,  0.,\n",
       "        0.,  1.,  0.,  1.,  0.,  0.,  0.,  0.,  0.,  0.,  0.,  0.,  0.,\n",
       "        0.,  0.,  0.,  0.,  0.,  0.,  0.,  0.,  0.,  0.,  1.,  0.,  0.,\n",
       "        1.,  0.,  0.,  1.,  0.,  0.,  1.,  0.,  0.,  0.,  0.,  0.,  0.,\n",
       "        1.,  0.,  1.,  0.,  1.,  0.,  0.,  0.,  1.,  0.,  0.,  0.,  1.,\n",
       "        0.,  0.,  0.,  0.,  0.,  1.,  0.,  0.,  0.,  0.,  0.,  0.,  0.,\n",
       "        0.,  0.,  1.,  0.,  0.,  1.,  0.,  0.,  0.,  0.,  0.,  1.,  1.,\n",
       "        0.,  1.,  0.,  0.,  0.,  1.,  0.,  0.,  0.,  0.,  1.,  0.,  0.,\n",
       "        0.,  1.,  0.,  1.,  0.,  0.,  0.,  0.,  1.,  0.,  1.,  0.,  0.,\n",
       "        1.,  0.,  0.,  0.,  1.,  0.,  0.,  1.,  0.,  0.,  0.,  0.,  0.,\n",
       "        0.,  0.,  0.,  1.,  0.,  0.,  0.,  0.,  0.,  0.,  0.,  0.,  0.,\n",
       "        1.,  0.,  1.,  0.,  0.,  1.,  0.,  0.,  0.,  0.,  1.,  0.,  0.,\n",
       "        1.,  0.,  0.,  1.,  1.,  0.,  0.,  0.,  0.,  0.,  0.,  0.,  0.,\n",
       "        0.,  0.,  0.,  0.,  1.,  0.,  0.,  0.,  0.,  0.,  0.,  0.,  0.,\n",
       "        0.,  0.,  0.,  0.,  0.,  0.,  0.,  0.,  0.,  0.,  1.,  1.,  0.,\n",
       "        0.,  0.,  1.,  0.,  0.,  0.,  0.,  0.,  0.,  0.,  0.,  0.,  0.,\n",
       "        0.,  0.,  1.,  0.,  0.,  0.,  0.,  0.,  0.,  0.,  0.,  0.,  0.,\n",
       "        0.,  0.,  0.,  0.,  0.,  0.,  0.,  0.,  0.,  0.,  0.,  0.,  0.,\n",
       "        0.,  1.,  0.,  0.,  0.,  0.,  0.,  0.,  0.,  0.,  1.,  0.,  0.,\n",
       "        0.,  0.,  0.,  1.,  0.,  0.,  0.,  1.,  1.,  1.,  0.,  0.,  0.,\n",
       "        0.,  1.,  0.,  1.,  0.,  0.,  1.,  0.,  0.,  0.,  0.,  0.,  0.,\n",
       "        0.,  0.,  1.,  0.,  0.,  0.,  0.,  0.,  0.,  0.,  0.,  1.,  0.,\n",
       "        0.,  0.,  0.,  0.,  0.,  0.,  0.,  0.,  0.,  0.,  1.,  0.,  0.,\n",
       "        1.,  1.,  0.,  1.,  0.,  0.,  0.,  0.,  1.,  0.,  1.,  0.,  0.,\n",
       "        0.,  0.,  0.,  0.,  0.,  0.,  0.,  1.,  0.,  0.,  0.,  0.,  0.,\n",
       "        0.,  0.,  1.,  1.,  0.,  0.,  0.,  1.,  0.,  0.,  0.,  1.,  1.,\n",
       "        0.,  0.,  0.,  0.,  0.,  0.,  1.,  0.,  0.,  0.,  0.,  0.,  0.,\n",
       "        1.,  0.,  1.,  1.,  1.,  1.,  0.,  0.,  0.,  0.,  1.,  0.,  0.,\n",
       "        1.,  0.,  0.,  0.,  0.,  0.,  1.,  0.,  0.,  0.,  0.,  0.,  0.,\n",
       "        0.,  0.,  0.,  0.,  0.,  1.,  0.,  0.,  0.,  1.,  0.,  1.,  0.,\n",
       "        0.,  0.,  0.,  0.,  0.,  0.,  0.,  1.])"
      ]
     },
     "execution_count": 207,
     "metadata": {},
     "output_type": "execute_result"
    }
   ],
   "source": [
    "import numpy as np\n",
    "import pandas as pd\n",
    "import sklearn.linear_model as lm\n",
    "from sklearn.metrics import mean_squared_error, r2_score\n",
    "\n",
    "names = [\"Tom      \",\"Jackson\",\"Ishjot \",\"David  \",\"Ruvan  \",\"Austin  \",\"Theo     \",\"Josh      \",\"Vinny*   \",\"Andrew   \",\"Oliver   \"]\n",
    "\n",
    "data = np.loadtxt(open(\"AFAPy.csv\"), delimiter=\",\",skiprows=1)\n",
    "datat = np.transpose(data)\n",
    "logit = lm.LogisticRegression(solver=\"sag\",multi_class=\"multinomial\")\n",
    "linear = lm.LinearRegression()\n",
    "TTKReg = lm.LinearRegression()\n",
    "dubs = datat[15]\n",
    "dubs"
   ]
  },
  {
   "cell_type": "code",
   "execution_count": 106,
   "metadata": {},
   "outputs": [
    {
     "data": {
      "text/plain": [
       "array([[ 1.,  1.,  1., ...,  0.,  0.,  0.],\n",
       "       [ 1.,  1.,  1., ...,  0.,  0.,  0.],\n",
       "       [ 1.,  1.,  1., ...,  0.,  0.,  0.],\n",
       "       ..., \n",
       "       [ 1.,  1.,  0., ...,  1.,  0.,  0.],\n",
       "       [ 1.,  1.,  0., ...,  1.,  0.,  0.],\n",
       "       [ 1.,  1.,  0., ...,  1.,  0.,  0.]])"
      ]
     },
     "execution_count": 106,
     "metadata": {},
     "output_type": "execute_result"
    }
   ],
   "source": [
    "players = data[0:,1:12]\n",
    "players"
   ]
  },
  {
   "cell_type": "code",
   "execution_count": 183,
   "metadata": {
    "scrolled": false
   },
   "outputs": [
    {
     "name": "stdout",
     "output_type": "stream",
     "text": [
      "Multinomial Logistic Regression without Interactions: Predicting Dub Rate by player only\n",
      "Intercept: \n",
      " [-1.87064184]\n",
      "Coefficients: \n",
      " [[ 0.63381711  0.03282035  0.5890022   0.03930084  0.29278383  0.23375654\n",
      "   0.32943889  0.31601659  0.70347475 -0.07535322 -0.14308278]]\n",
      "MSE:  0.190954773869\n",
      "Variance score: -0.24\n"
     ]
    }
   ],
   "source": [
    "logit.fit(players, dubs)\n",
    "print(\"Multinomial Logistic Regression without Interactions: Predicting Dub Rate by player only\")\n",
    "print(\"Intercept: \\n\", logit.intercept_)\n",
    "print(\"Coefficients: \\n\", logit.coef_)\n",
    "logitInt = logit.intercept_\n",
    "logitCoefs = logit.coef_\n",
    "predictions = logit.predict(players)\n",
    "print(\"MSE: \", mean_squared_error(dubs, predictions))\n",
    "print('Variance score: %.2f' % r2_score(dubs, predictions))"
   ]
  },
  {
   "cell_type": "code",
   "execution_count": 184,
   "metadata": {},
   "outputs": [
    {
     "name": "stdout",
     "output_type": "stream",
     "text": [
      "General Linear Regression without Interactions: Predicting AdjTTK by players only\n",
      "Intercept: \n",
      " 6.69628915589\n",
      "Coefficients: \n",
      " [ 2.43829055  0.46584244  0.67760242 -0.91488196 -1.36686895 -0.77809815\n",
      "  0.77433593  1.67506098  1.74115932 -1.84500388  1.26048692]\n",
      "MSE:  37.290163488\n",
      "Variance score: 0.06\n"
     ]
    }
   ],
   "source": [
    "adjTTK = datat[14]\n",
    "linear.fit(players, adjTTK)\n",
    "print(\"General Linear Regression without Interactions: Predicting AdjTTK by players only\")\n",
    "print(\"Intercept: \\n\", linear.intercept_)\n",
    "print(\"Coefficients: \\n\", linear.coef_)\n",
    "TTKInt = linear.intercept_\n",
    "TTKCoefs = linear.coef_\n",
    "predictions = linear.predict(players)\n",
    "print(\"MSE: \", mean_squared_error(adjTTK, predictions))\n",
    "print('Variance score: %.2f' % linear.score(players, adjTTK))"
   ]
  },
  {
   "cell_type": "code",
   "execution_count": 185,
   "metadata": {},
   "outputs": [
    {
     "name": "stdout",
     "output_type": "stream",
     "text": [
      "General Linear Regression without Interactions: Predicting AP by players only\n",
      "Intercept: \n",
      " 17.3212438467\n",
      "Coefficients: \n",
      " [-4.34443445 -0.97687981 -3.55645728 -0.84715501 -0.53279351 -0.491169\n",
      " -2.44858099 -1.96711557 -3.25693142  0.781631   -4.94287027]\n",
      "MSE:  72.8889953778\n",
      "Variance score: 0.04\n"
     ]
    }
   ],
   "source": [
    "AP = datat[12]\n",
    "TTKReg.fit(players, AP)\n",
    "print(\"General Linear Regression without Interactions: Predicting AP by players only\")\n",
    "print(\"Intercept: \\n\", TTKReg.intercept_)\n",
    "print(\"Coefficients: \\n\", TTKReg.coef_)\n",
    "APInt = TTKReg.intercept_\n",
    "APCoefs = TTKReg.coef_\n",
    "predictions = TTKReg.predict(players)\n",
    "print(\"MSE: \", mean_squared_error(AP, predictions))\n",
    "print('Variance score: %.2f' % TTKReg.score(players, AP))"
   ]
  },
  {
   "cell_type": "code",
   "execution_count": 214,
   "metadata": {},
   "outputs": [
    {
     "name": "stdout",
     "output_type": "stream",
     "text": [
      "Name \t\t Multiplicative Effect on Dub Odds Ratio \t Effect on teams AdjTTK \t Effect on AP\n",
      "Tom       \t 1.885 \t \t \t\t\t\t 2.438 \t\t\t\t -4.344\n",
      "Jackson \t 1.033 \t \t \t\t\t\t 0.466 \t\t\t\t -0.977\n",
      "Ishjot  \t 1.802 \t \t \t\t\t\t 0.678 \t\t\t\t -3.556\n",
      "David   \t 1.04 \t \t \t\t\t\t -0.915 \t\t\t\t -0.847\n",
      "Ruvan   \t 1.34 \t \t \t\t\t\t -1.367 \t\t\t\t -0.533\n",
      "Austin   \t 1.263 \t \t \t\t\t\t -0.778 \t\t\t\t -0.491\n",
      "Theo      \t 1.39 \t \t \t\t\t\t 0.774 \t\t\t\t -2.449\n",
      "Josh       \t 1.372 \t \t \t\t\t\t 1.675 \t\t\t\t -1.967\n",
      "Vinny*    \t 2.021 \t \t \t\t\t\t 1.741 \t\t\t\t -3.257\n",
      "Andrew    \t 0.927 \t \t \t\t\t\t -1.845 \t\t\t\t 0.782\n",
      "Oliver    \t 0.867 \t \t \t\t\t\t 1.26 \t\t\t\t -4.943\n",
      "Coefficents \t 0.154 \t\t\t\t\t\t 6.696 \t\t\t\t 17.321\n"
     ]
    }
   ],
   "source": [
    "print(\"Name \\t\\t Multiplicative Effect on Dub Odds Ratio \\t Effect on teams AdjTTK \\t Effect on AP\")\n",
    "for i in range(0, len(names)):\n",
    "    print(names[i], \"\\t\", round(np.exp(logitCoefs[0][i]),3),\"\\t \\t \\t\\t\\t\\t\",round(TTKCoefs[i],3),\"\\t\\t\\t\\t\",round(APCoefs[i],3))\n",
    "print(\"Coefficents \\t\",round(np.exp(logitInt[0]),3),\"\\t\\t\\t\\t\\t\\t\",round(TTKInt,3),\"\\t\\t\\t\\t\",round(APInt,3))"
   ]
  },
  {
   "cell_type": "code",
   "execution_count": null,
   "metadata": {
    "collapsed": true
   },
   "outputs": [],
   "source": []
  }
 ],
 "metadata": {
  "kernelspec": {
   "display_name": "Python 3",
   "language": "python",
   "name": "python3"
  },
  "language_info": {
   "codemirror_mode": {
    "name": "ipython",
    "version": 3
   },
   "file_extension": ".py",
   "mimetype": "text/x-python",
   "name": "python",
   "nbconvert_exporter": "python",
   "pygments_lexer": "ipython3",
   "version": "3.6.1"
  }
 },
 "nbformat": 4,
 "nbformat_minor": 2
}
